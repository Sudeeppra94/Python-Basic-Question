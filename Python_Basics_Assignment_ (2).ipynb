{
  "nbformat": 4,
  "nbformat_minor": 0,
  "metadata": {
    "colab": {
      "provenance": []
    },
    "kernelspec": {
      "name": "python3",
      "display_name": "Python 3"
    },
    "language_info": {
      "name": "python"
    }
  },
  "cells": [
    {
      "cell_type": "markdown",
      "source": [
        "# Python Basics Questions"
      ],
      "metadata": {
        "id": "_i9s2iqdnNTb"
      }
    },
    {
      "cell_type": "markdown",
      "source": [
        "1. What is Python, and why is it popular?\n",
        "   - Python is a programming language that is easy to understand and write, making it a popular choice among developers and programmers.\n",
        "   Here is why Python is so popular among developers and engineers:\n",
        "   -Simple syntax & ease of use.\n",
        "   -Open source\n",
        "   -Large & active community.\n",
        "   -Extensive libraries & frameworks."
      ],
      "metadata": {
        "id": "fg_V0jjoofUT"
      }
    },
    {
      "cell_type": "markdown",
      "source": [
        "2. What is an interpreter in Python?\n",
        "   - A Python interpreter is a computer program that translates Python code into machine code so that a computer can understand and execute it."
      ],
      "metadata": {
        "id": "qeJC0WoVwHxC"
      }
    },
    {
      "cell_type": "markdown",
      "source": [
        "3. What are pre-defined keywords in Python?\n",
        "   - Pre-defined keywords are case-sensitive and cannot be redefined or overridden within a Python program.\n",
        "   Ex.- if, else, while, for etc."
      ],
      "metadata": {
        "id": "BrW6oryVwnjY"
      }
    },
    {
      "cell_type": "markdown",
      "source": [
        "4. Can keywords be used as variable names?\n",
        "   - Keywords cannot be used as variable because keywords are reserved words in Python that have special meaning."
      ],
      "metadata": {
        "id": "XgU3ENZvzT5o"
      }
    },
    {
      "cell_type": "markdown",
      "source": [
        "5. What is mutability in Python?\n",
        "   - In Python, mutability refers to the ability of an object to change after it has been created. Objects whose state or value can be changed after they are created are called as mutable objects.\n",
        "   Ex.- list etc.\n",
        "\n"
      ],
      "metadata": {
        "id": "r2LGRYSGz0Dl"
      }
    },
    {
      "cell_type": "markdown",
      "source": [
        "6. Why are lists mutable, but tuples are immutable?\n",
        "   - Mutable objects, such as lists can be modified after creation, while immutable objects like tuple cannot.\n"
      ],
      "metadata": {
        "id": "ptKKuQ0y1Vjz"
      }
    },
    {
      "cell_type": "markdown",
      "source": [
        "7. What is the difference between “==” and “is” operators in Python?\n",
        "   - In Python, the main difference between equality operator \"==\" and identity operator \"is\" is that equality operator \"==\" compares the value of two objects, while identity operators \"is\" checks if two variable point to the same object in memory.\n"
      ],
      "metadata": {
        "id": "RwLd7lmx2gUV"
      }
    },
    {
      "cell_type": "markdown",
      "source": [
        "8. What are logical operators in Python?\n",
        "   - Logical operators in Python combine two or more operands and conduct logical comparisons on them. There are three types: AND,OR and NOT."
      ],
      "metadata": {
        "id": "aptVDWLe4Kpw"
      }
    },
    {
      "cell_type": "markdown",
      "source": [
        "9. What is type casting in Python?\n",
        "   - Type Casting is the method to convert the Python variable datatype into a certain data type in order to perform the required operation by users.\n",
        "   - Type casting also refered to as type conversion, is the process of changing one data type to another in Python.\n",
        "\n",
        "\n"
      ],
      "metadata": {
        "id": "A_RVhWX_5k7M"
      }
    },
    {
      "cell_type": "markdown",
      "source": [
        "10. What is the difference between implicit and explicit type casting?\n",
        "    - In Python type casting have two types:-\n",
        "    - Implicit type casting: In this, method, Python converts the datatype into another datatype automatically. Users don’t have to involve in this process.\n",
        "    - Explicit type casting: In this method, Python needs user involvement to convert the variable data type into the required data type."
      ],
      "metadata": {
        "id": "HHDj7xmB70tt"
      }
    },
    {
      "cell_type": "markdown",
      "source": [
        "11. What is the purpose of conditional statements in Python?\n",
        "    - Conditional statements in Python are used to control the flow of a program by making decision on certain conditions:\n",
        "    - Determine code statements.\n",
        "    - Make decisions.\n",
        "    - Improve code efficiency."
      ],
      "metadata": {
        "id": "XT4lybQf9-hE"
      }
    },
    {
      "cell_type": "markdown",
      "source": [
        "12. How does the elif statement work?\n",
        "    - In Python, \"elif\" is short for \"else if\" and is used when the first \"if\" statement isn't true, but you want to check for another condition.\n",
        "    - When you run into a situation where you have several conditions, you can place as many \"elif\" conditions as necessary between the \"if\" condition and the \"else\" condition."
      ],
      "metadata": {
        "id": "B4CbbqZI-tQn"
      }
    },
    {
      "cell_type": "markdown",
      "source": [
        "13. What is the difference between for and while loops?\n",
        "    - \"for\" loops are used for iterating over a sequence of elements, while \"while\" loops are used for executive code until a specified condition become false."
      ],
      "metadata": {
        "id": "APUUyWPlAMzN"
      }
    },
    {
      "cell_type": "markdown",
      "source": [
        "14. Describe a scenario where a while loop is more suitable than a for loop.\n",
        "    - Use a while loop when you need to continue looping until a specific condition is met, rather than a set number of times. For loops are better for known iterations, like looping exactly 10 times. When checking for valid input or conditions, a while loop is the preferred choice."
      ],
      "metadata": {
        "id": "MT8YWRhtE7xe"
      }
    },
    {
      "cell_type": "markdown",
      "source": [
        "# Practical Question & Answer"
      ],
      "metadata": {
        "id": "-9R1zIFTPmLe"
      }
    },
    {
      "cell_type": "code",
      "source": [
        "#1 Write a Python program to print \"Hello, World!\n",
        "print(\"Hello, World!\")\n",
        "\n",
        "\n"
      ],
      "metadata": {
        "colab": {
          "base_uri": "https://localhost:8080/"
        },
        "id": "9IinXJ0V7yiY",
        "outputId": "083426d5-f012-429a-df13-8323bf2aa790"
      },
      "execution_count": 2,
      "outputs": [
        {
          "output_type": "stream",
          "name": "stdout",
          "text": [
            "Hello, World!\n"
          ]
        }
      ]
    },
    {
      "cell_type": "code",
      "source": [
        "#2 Write a Python program that displays your name and age.\n",
        "name = input(\"enter your name and age-\")\n",
        "\n"
      ],
      "metadata": {
        "colab": {
          "base_uri": "https://localhost:8080/"
        },
        "id": "sgPoAl_DQN2a",
        "outputId": "43a986c9-0ce3-42ef-d8f2-730a0ca47c13"
      },
      "execution_count": 13,
      "outputs": [
        {
          "name": "stdout",
          "output_type": "stream",
          "text": [
            "enter your name and age-sudeep, 30\n"
          ]
        }
      ]
    },
    {
      "cell_type": "code",
      "source": [
        "#3 Write code to print all the pre-defined keywords in Python using the keyword library.\n",
        "help(\"keywords\")\n"
      ],
      "metadata": {
        "colab": {
          "base_uri": "https://localhost:8080/"
        },
        "id": "u5_JotouRCDN",
        "outputId": "dd51f866-30e8-45ac-9aa2-59718fa5cadb"
      },
      "execution_count": 7,
      "outputs": [
        {
          "output_type": "stream",
          "name": "stdout",
          "text": [
            "\n",
            "Here is a list of the Python keywords.  Enter any keyword to get more help.\n",
            "\n",
            "False               class               from                or\n",
            "None                continue            global              pass\n",
            "True                def                 if                  raise\n",
            "and                 del                 import              return\n",
            "as                  elif                in                  try\n",
            "assert              else                is                  while\n",
            "async               except              lambda              with\n",
            "await               finally             nonlocal            yield\n",
            "break               for                 not                 \n",
            "\n"
          ]
        }
      ]
    },
    {
      "cell_type": "code",
      "source": [
        "#4 Write a program that checks if a given word is a Python keyword.\n",
        "\n"
      ],
      "metadata": {
        "id": "Y1yPVYz3RM7S"
      },
      "execution_count": null,
      "outputs": []
    },
    {
      "cell_type": "code",
      "source": [
        "#5 Create a list and tuple in Python, and demonstrate how attempting to change an element works differently for each.\n",
        "tuple = (1,2,3,4,5)\n",
        "tuple"
      ],
      "metadata": {
        "colab": {
          "base_uri": "https://localhost:8080/"
        },
        "id": "k4Ody7dPSWJ5",
        "outputId": "c32c9bbc-a099-49cb-84e5-fdae199f6b7a"
      },
      "execution_count": 47,
      "outputs": [
        {
          "output_type": "execute_result",
          "data": {
            "text/plain": [
              "(1, 2, 3, 4, 5)"
            ]
          },
          "metadata": {},
          "execution_count": 47
        }
      ]
    },
    {
      "cell_type": "code",
      "source": [
        "tuple[0] = 10"
      ],
      "metadata": {
        "colab": {
          "base_uri": "https://localhost:8080/",
          "height": 141
        },
        "id": "nUp5NdQsyKh2",
        "outputId": "532515d5-3228-474a-d0ff-c1da770f6b43"
      },
      "execution_count": 3,
      "outputs": [
        {
          "output_type": "error",
          "ename": "TypeError",
          "evalue": "'type' object does not support item assignment",
          "traceback": [
            "\u001b[0;31m---------------------------------------------------------------------------\u001b[0m",
            "\u001b[0;31mTypeError\u001b[0m                                 Traceback (most recent call last)",
            "\u001b[0;32m<ipython-input-3-311d8563de6a>\u001b[0m in \u001b[0;36m<cell line: 1>\u001b[0;34m()\u001b[0m\n\u001b[0;32m----> 1\u001b[0;31m \u001b[0mtuple\u001b[0m\u001b[0;34m[\u001b[0m\u001b[0;36m0\u001b[0m\u001b[0;34m]\u001b[0m \u001b[0;34m=\u001b[0m \u001b[0;36m10\u001b[0m\u001b[0;34m\u001b[0m\u001b[0;34m\u001b[0m\u001b[0m\n\u001b[0m",
            "\u001b[0;31mTypeError\u001b[0m: 'type' object does not support item assignment"
          ]
        }
      ]
    },
    {
      "cell_type": "code",
      "source": [
        "list = [1,2,3,4,5]\n",
        "list"
      ],
      "metadata": {
        "colab": {
          "base_uri": "https://localhost:8080/"
        },
        "id": "anNIeE0UyUli",
        "outputId": "b87da680-5cfb-45ba-f0e1-f08fc5e008b1"
      },
      "execution_count": 4,
      "outputs": [
        {
          "output_type": "execute_result",
          "data": {
            "text/plain": [
              "[1, 2, 3, 4, 5]"
            ]
          },
          "metadata": {},
          "execution_count": 4
        }
      ]
    },
    {
      "cell_type": "code",
      "source": [
        "list [0] = 10\n",
        "list"
      ],
      "metadata": {
        "colab": {
          "base_uri": "https://localhost:8080/"
        },
        "id": "vXdAyRAoyYPf",
        "outputId": "c99988f1-08a6-4f9f-a715-be69aa7a660b"
      },
      "execution_count": 5,
      "outputs": [
        {
          "output_type": "execute_result",
          "data": {
            "text/plain": [
              "[10, 2, 3, 4, 5]"
            ]
          },
          "metadata": {},
          "execution_count": 5
        }
      ]
    },
    {
      "cell_type": "code",
      "source": [
        "#8 Write a program to demonstrate the use of logical operators\n",
        "True and True\n"
      ],
      "metadata": {
        "colab": {
          "base_uri": "https://localhost:8080/"
        },
        "id": "hTnhWg6rYJY8",
        "outputId": "fd49dabf-3f8c-40a5-da66-7b50a8fabfc1"
      },
      "execution_count": 43,
      "outputs": [
        {
          "output_type": "execute_result",
          "data": {
            "text/plain": [
              "True"
            ]
          },
          "metadata": {},
          "execution_count": 43
        }
      ]
    },
    {
      "cell_type": "code",
      "source": [
        "False or True"
      ],
      "metadata": {
        "colab": {
          "base_uri": "https://localhost:8080/"
        },
        "id": "6tzAefIXhqGx",
        "outputId": "53577265-606a-456a-a9c8-a85830ab7334"
      },
      "execution_count": 44,
      "outputs": [
        {
          "output_type": "execute_result",
          "data": {
            "text/plain": [
              "True"
            ]
          },
          "metadata": {},
          "execution_count": 44
        }
      ]
    },
    {
      "cell_type": "code",
      "source": [
        "not True"
      ],
      "metadata": {
        "colab": {
          "base_uri": "https://localhost:8080/"
        },
        "id": "WHFIzqKDht2_",
        "outputId": "35ee70db-9b22-4473-fc3f-201ff2288dc7"
      },
      "execution_count": 46,
      "outputs": [
        {
          "output_type": "execute_result",
          "data": {
            "text/plain": [
              "False"
            ]
          },
          "metadata": {},
          "execution_count": 46
        }
      ]
    },
    {
      "cell_type": "code",
      "source": [
        "#9 Write a Python program to convert user input from string to integer, float, and boolean types.\n",
        "input = \"10\"\n",
        "type(input)\n"
      ],
      "metadata": {
        "colab": {
          "base_uri": "https://localhost:8080/"
        },
        "id": "xMqPu_jub4sc",
        "outputId": "825de12a-5dbb-4274-a94a-246fcee0b66b"
      },
      "execution_count": 34,
      "outputs": [
        {
          "output_type": "execute_result",
          "data": {
            "text/plain": [
              "str"
            ]
          },
          "metadata": {},
          "execution_count": 34
        }
      ]
    },
    {
      "cell_type": "code",
      "source": [
        "type(int(input))"
      ],
      "metadata": {
        "colab": {
          "base_uri": "https://localhost:8080/"
        },
        "id": "s6pieK8UcIrB",
        "outputId": "e25cff53-2c39-4db0-c9ca-694064350f08"
      },
      "execution_count": 36,
      "outputs": [
        {
          "output_type": "execute_result",
          "data": {
            "text/plain": [
              "int"
            ]
          },
          "metadata": {},
          "execution_count": 36
        }
      ]
    },
    {
      "cell_type": "code",
      "source": [
        "type(float(input))"
      ],
      "metadata": {
        "colab": {
          "base_uri": "https://localhost:8080/"
        },
        "id": "UJIEz4pGcVHx",
        "outputId": "030290b4-b3ab-49d3-a43f-9eafecabdf16"
      },
      "execution_count": 37,
      "outputs": [
        {
          "output_type": "execute_result",
          "data": {
            "text/plain": [
              "float"
            ]
          },
          "metadata": {},
          "execution_count": 37
        }
      ]
    },
    {
      "cell_type": "code",
      "source": [
        "type(bool(input))"
      ],
      "metadata": {
        "colab": {
          "base_uri": "https://localhost:8080/"
        },
        "id": "s2FJcU6xcpEJ",
        "outputId": "cd1e854b-d876-413a-cedc-2f968855bd3a"
      },
      "execution_count": 39,
      "outputs": [
        {
          "output_type": "execute_result",
          "data": {
            "text/plain": [
              "bool"
            ]
          },
          "metadata": {},
          "execution_count": 39
        }
      ]
    },
    {
      "cell_type": "code",
      "source": [
        "#10 Write code to demonstrate type casting with list elements.\n",
        "list = [1,2,3,\"sudeep\",2+1j]\n",
        "type(list)\n"
      ],
      "metadata": {
        "colab": {
          "base_uri": "https://localhost:8080/"
        },
        "id": "EeY7s0hAc5NY",
        "outputId": "73f5ea8f-4df8-43fb-c9fe-8f0c03e3fa1e"
      },
      "execution_count": 40,
      "outputs": [
        {
          "output_type": "execute_result",
          "data": {
            "text/plain": [
              "list"
            ]
          },
          "metadata": {},
          "execution_count": 40
        }
      ]
    },
    {
      "cell_type": "code",
      "source": [
        "list[0]"
      ],
      "metadata": {
        "colab": {
          "base_uri": "https://localhost:8080/"
        },
        "id": "OyMlQgrDgOX6",
        "outputId": "23c188f2-bc96-4210-deaf-8f347759407b"
      },
      "execution_count": 41,
      "outputs": [
        {
          "output_type": "execute_result",
          "data": {
            "text/plain": [
              "1"
            ]
          },
          "metadata": {},
          "execution_count": 41
        }
      ]
    },
    {
      "cell_type": "code",
      "source": [
        "#11 Write a program that checks if a number is positive, negative, or zero.\n",
        "a = 10\n",
        "if a > 0:\n",
        "  print(\"a is positive  number\")\n",
        "elif a < 0:\n",
        "  print(\"a is negative number\")\n",
        "else:\n",
        "  print(\"a is zero\")\n"
      ],
      "metadata": {
        "colab": {
          "base_uri": "https://localhost:8080/"
        },
        "id": "FTX6gRefgSli",
        "outputId": "777054b2-4016-43e8-c577-c4706b0de736"
      },
      "execution_count": 42,
      "outputs": [
        {
          "output_type": "stream",
          "name": "stdout",
          "text": [
            "a is positive  number\n"
          ]
        }
      ]
    },
    {
      "cell_type": "code",
      "source": [
        "#12  Write a for loop to print numbers from 1 to 10.\n",
        "for i in range(1,11):\n",
        "  print(i)\n"
      ],
      "metadata": {
        "colab": {
          "base_uri": "https://localhost:8080/"
        },
        "id": "zOGvWMOGhXzA",
        "outputId": "d3476ffb-e2a4-44df-fa69-c7d1d155699e"
      },
      "execution_count": 48,
      "outputs": [
        {
          "output_type": "stream",
          "name": "stdout",
          "text": [
            "1\n",
            "2\n",
            "3\n",
            "4\n",
            "5\n",
            "6\n",
            "7\n",
            "8\n",
            "9\n",
            "10\n"
          ]
        }
      ]
    },
    {
      "cell_type": "code",
      "source": [
        "#13 Write a Python program to find the sum of all even numbers between 1 and 50.\n",
        "sum = 0\n",
        "for i in range(1,51):\n",
        "  if i % 2 == 0:\n",
        "    sum = sum + i\n",
        "print(sum)\n"
      ],
      "metadata": {
        "colab": {
          "base_uri": "https://localhost:8080/"
        },
        "id": "684K467riMWa",
        "outputId": "f972c593-8d12-41e4-d407-e9b3dfbd42e8"
      },
      "execution_count": 49,
      "outputs": [
        {
          "output_type": "stream",
          "name": "stdout",
          "text": [
            "650\n"
          ]
        }
      ]
    },
    {
      "cell_type": "code",
      "source": [
        "#14 Write a program to reverse a string using a while loop.\n",
        "string = \"hello i am sudeep\"\n",
        "string[::-1]\n",
        "\n"
      ],
      "metadata": {
        "colab": {
          "base_uri": "https://localhost:8080/",
          "height": 35
        },
        "id": "bYljriHYihno",
        "outputId": "770df2d7-9769-4b87-e584-bc68bfc88960"
      },
      "execution_count": 1,
      "outputs": [
        {
          "output_type": "execute_result",
          "data": {
            "text/plain": [
              "'peedus ma i olleh'"
            ],
            "application/vnd.google.colaboratory.intrinsic+json": {
              "type": "string"
            }
          },
          "metadata": {},
          "execution_count": 1
        }
      ]
    },
    {
      "cell_type": "code",
      "source": [
        "#15 Write a Python program to calculate the factorial of a number provided by the user using a while loop.\n"
      ],
      "metadata": {
        "id": "_KyZMyqnaYeh"
      },
      "execution_count": null,
      "outputs": []
    }
  ]
}